{
 "cells": [
  {
   "cell_type": "markdown",
   "id": "ed922d53",
   "metadata": {},
   "source": [
    "### Data in Hand\n",
    "Drew Baltzer \n",
    "11/30/21"
   ]
  },
  {
   "cell_type": "code",
   "execution_count": 1,
   "id": "addce0f9",
   "metadata": {},
   "outputs": [],
   "source": [
    "import pandas as pd \n",
    "import openpyxl\n",
    "from matplotlib import pyplot as plt\n",
    "from scipy import stats\n",
    "from pandas import DataFrame"
   ]
  },
  {
   "cell_type": "code",
   "execution_count": null,
   "id": "0b82f5f1",
   "metadata": {
    "scrolled": true
   },
   "outputs": [],
   "source": [
    "ls"
   ]
  },
  {
   "cell_type": "markdown",
   "id": "6013f5b7",
   "metadata": {},
   "source": [
    "### The Data\n",
    "I found excel spreadsheets online that display Steam data from August 2020 that covers hundrends of game's developers, prices, users, languages, genres and release dates. I am hoping that with the use of these spreadsheets I can form an analysis that may be able to connect some of the topics supplied by the data. Such as analyzing if larger free to play titles hold a larger player base than pay to play titles. The .xlsx format is being used here due to issues with the .csv format."
   ]
  },
  {
   "cell_type": "code",
   "execution_count": 7,
   "id": "e6e7fb69",
   "metadata": {
    "scrolled": false
   },
   "outputs": [],
   "source": [
    "game_devs = pd.read_excel('applicationDevelopers.xlsx')\n",
    "game_info = pd.read_excel('applicationInformation.xlsx')\n",
    "#game_pub = pd.read_csv(r\"C:\\Users\\Drew\\EMATFA21\\applicationPublishers.csv\", encoding = 'latin-1', header = None)"
   ]
  },
  {
   "cell_type": "markdown",
   "id": "7a628d43",
   "metadata": {},
   "source": [
    "### Other Data\n",
    "There are other files available that are not being displayed in this notebook such as the PlayerCountHistory data because I will only be using those files when needed since they contain hundreds of individual excel files."
   ]
  },
  {
   "cell_type": "code",
   "execution_count": 3,
   "id": "81a75953",
   "metadata": {
    "scrolled": true
   },
   "outputs": [
    {
     "data": {
      "text/html": [
       "<div>\n",
       "<style scoped>\n",
       "    .dataframe tbody tr th:only-of-type {\n",
       "        vertical-align: middle;\n",
       "    }\n",
       "\n",
       "    .dataframe tbody tr th {\n",
       "        vertical-align: top;\n",
       "    }\n",
       "\n",
       "    .dataframe thead th {\n",
       "        text-align: right;\n",
       "    }\n",
       "</style>\n",
       "<table border=\"1\" class=\"dataframe\">\n",
       "  <thead>\n",
       "    <tr style=\"text-align: right;\">\n",
       "      <th></th>\n",
       "      <th>578080</th>\n",
       "      <th>PUBG Corporation</th>\n",
       "      <th>Unnamed: 2</th>\n",
       "      <th>Unnamed: 3</th>\n",
       "      <th>Unnamed: 4</th>\n",
       "      <th>Unnamed: 5</th>\n",
       "      <th>Unnamed: 6</th>\n",
       "      <th>Unnamed: 7</th>\n",
       "    </tr>\n",
       "  </thead>\n",
       "  <tbody>\n",
       "    <tr>\n",
       "      <th>0</th>\n",
       "      <td>570</td>\n",
       "      <td>Valve</td>\n",
       "      <td>NaN</td>\n",
       "      <td>NaN</td>\n",
       "      <td>NaN</td>\n",
       "      <td>NaN</td>\n",
       "      <td>NaN</td>\n",
       "      <td>NaN</td>\n",
       "    </tr>\n",
       "    <tr>\n",
       "      <th>1</th>\n",
       "      <td>730</td>\n",
       "      <td>Valve</td>\n",
       "      <td>Hidden Path Entertainment</td>\n",
       "      <td>NaN</td>\n",
       "      <td>NaN</td>\n",
       "      <td>NaN</td>\n",
       "      <td>NaN</td>\n",
       "      <td>NaN</td>\n",
       "    </tr>\n",
       "    <tr>\n",
       "      <th>2</th>\n",
       "      <td>622590</td>\n",
       "      <td>NaN</td>\n",
       "      <td>NaN</td>\n",
       "      <td>NaN</td>\n",
       "      <td>NaN</td>\n",
       "      <td>NaN</td>\n",
       "      <td>NaN</td>\n",
       "      <td>NaN</td>\n",
       "    </tr>\n",
       "    <tr>\n",
       "      <th>3</th>\n",
       "      <td>359550</td>\n",
       "      <td>Ubisoft Montreal</td>\n",
       "      <td>NaN</td>\n",
       "      <td>NaN</td>\n",
       "      <td>NaN</td>\n",
       "      <td>NaN</td>\n",
       "      <td>NaN</td>\n",
       "      <td>NaN</td>\n",
       "    </tr>\n",
       "    <tr>\n",
       "      <th>4</th>\n",
       "      <td>271590</td>\n",
       "      <td>Rockstar North</td>\n",
       "      <td>NaN</td>\n",
       "      <td>NaN</td>\n",
       "      <td>NaN</td>\n",
       "      <td>NaN</td>\n",
       "      <td>NaN</td>\n",
       "      <td>NaN</td>\n",
       "    </tr>\n",
       "  </tbody>\n",
       "</table>\n",
       "</div>"
      ],
      "text/plain": [
       "   578080  PUBG Corporation                 Unnamed: 2 Unnamed: 3 Unnamed: 4  \\\n",
       "0     570             Valve                        NaN        NaN        NaN   \n",
       "1     730             Valve  Hidden Path Entertainment        NaN        NaN   \n",
       "2  622590               NaN                        NaN        NaN        NaN   \n",
       "3  359550  Ubisoft Montreal                        NaN        NaN        NaN   \n",
       "4  271590    Rockstar North                        NaN        NaN        NaN   \n",
       "\n",
       "  Unnamed: 5 Unnamed: 6 Unnamed: 7  \n",
       "0        NaN        NaN        NaN  \n",
       "1        NaN        NaN        NaN  \n",
       "2        NaN        NaN        NaN  \n",
       "3        NaN        NaN        NaN  \n",
       "4        NaN        NaN        NaN  "
      ]
     },
     "execution_count": 3,
     "metadata": {},
     "output_type": "execute_result"
    }
   ],
   "source": [
    "game_devs.head()"
   ]
  },
  {
   "cell_type": "code",
   "execution_count": 5,
   "id": "f79b78dd",
   "metadata": {},
   "outputs": [
    {
     "data": {
      "text/html": [
       "<div>\n",
       "<style scoped>\n",
       "    .dataframe tbody tr th:only-of-type {\n",
       "        vertical-align: middle;\n",
       "    }\n",
       "\n",
       "    .dataframe tbody tr th {\n",
       "        vertical-align: top;\n",
       "    }\n",
       "\n",
       "    .dataframe thead th {\n",
       "        text-align: right;\n",
       "    }\n",
       "</style>\n",
       "<table border=\"1\" class=\"dataframe\">\n",
       "  <thead>\n",
       "    <tr style=\"text-align: right;\">\n",
       "      <th></th>\n",
       "      <th>appid</th>\n",
       "      <th>type</th>\n",
       "      <th>name</th>\n",
       "      <th>releasedate</th>\n",
       "      <th>freetoplay</th>\n",
       "    </tr>\n",
       "  </thead>\n",
       "  <tbody>\n",
       "    <tr>\n",
       "      <th>0</th>\n",
       "      <td>578080</td>\n",
       "      <td>game</td>\n",
       "      <td>PLAYERUNKNOWN'S BATTLEGROUNDS</td>\n",
       "      <td>2017-12-21</td>\n",
       "      <td>0.0</td>\n",
       "    </tr>\n",
       "    <tr>\n",
       "      <th>1</th>\n",
       "      <td>570</td>\n",
       "      <td>game</td>\n",
       "      <td>Dota 2</td>\n",
       "      <td>2013-07-09</td>\n",
       "      <td>1.0</td>\n",
       "    </tr>\n",
       "    <tr>\n",
       "      <th>2</th>\n",
       "      <td>730</td>\n",
       "      <td>game</td>\n",
       "      <td>Counter-Strike: Global Offensive</td>\n",
       "      <td>2012-08-21</td>\n",
       "      <td>1.0</td>\n",
       "    </tr>\n",
       "    <tr>\n",
       "      <th>3</th>\n",
       "      <td>622590</td>\n",
       "      <td>NaN</td>\n",
       "      <td>PLAYERUNKNOWN'S BATTLEGROUNDS (Test Server)</td>\n",
       "      <td>NaT</td>\n",
       "      <td>NaN</td>\n",
       "    </tr>\n",
       "    <tr>\n",
       "      <th>4</th>\n",
       "      <td>359550</td>\n",
       "      <td>game</td>\n",
       "      <td>Tom Clancy's Rainbow Six Siege</td>\n",
       "      <td>2015-12-01</td>\n",
       "      <td>0.0</td>\n",
       "    </tr>\n",
       "  </tbody>\n",
       "</table>\n",
       "</div>"
      ],
      "text/plain": [
       "    appid  type                                         name releasedate  \\\n",
       "0  578080  game                PLAYERUNKNOWN'S BATTLEGROUNDS  2017-12-21   \n",
       "1     570  game                                       Dota 2  2013-07-09   \n",
       "2     730  game             Counter-Strike: Global Offensive  2012-08-21   \n",
       "3  622590   NaN  PLAYERUNKNOWN'S BATTLEGROUNDS (Test Server)         NaT   \n",
       "4  359550  game               Tom Clancy's Rainbow Six Siege  2015-12-01   \n",
       "\n",
       "   freetoplay  \n",
       "0         0.0  \n",
       "1         1.0  \n",
       "2         1.0  \n",
       "3         NaN  \n",
       "4         0.0  "
      ]
     },
     "execution_count": 5,
     "metadata": {},
     "output_type": "execute_result"
    }
   ],
   "source": [
    "game_info.head()"
   ]
  }
 ],
 "metadata": {
  "kernelspec": {
   "display_name": "Python 3 (ipykernel)",
   "language": "python",
   "name": "python3"
  },
  "language_info": {
   "codemirror_mode": {
    "name": "ipython",
    "version": 3
   },
   "file_extension": ".py",
   "mimetype": "text/x-python",
   "name": "python",
   "nbconvert_exporter": "python",
   "pygments_lexer": "ipython3",
   "version": "3.9.6"
  }
 },
 "nbformat": 4,
 "nbformat_minor": 5
}
